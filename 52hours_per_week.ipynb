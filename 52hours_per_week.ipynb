{
 "cells": [
  {
   "metadata": {},
   "cell_type": "markdown",
   "source": "## Libraries",
   "id": "ea3cbfa1b59a6caf"
  },
  {
   "cell_type": "code",
   "id": "initial_id",
   "metadata": {
    "collapsed": true,
    "ExecuteTime": {
     "end_time": "2024-06-10T09:24:45.189164Z",
     "start_time": "2024-06-10T09:24:45.173445Z"
    }
   },
   "source": [
    "import pandas as pd\n",
    "import numpy as np\n",
    "from linearmodels import PanelOLS\n",
    "import statsmodels.api as sm\n",
    "import matplotlib.pyplot as plt\n",
    "import seaborn as sns\n",
    "from numpy import log\n",
    "from causalinference import CausalModel"
   ],
   "outputs": [],
   "execution_count": 154
  },
  {
   "metadata": {},
   "cell_type": "markdown",
   "source": "## Data",
   "id": "e0d8e94ec4afa2f0"
  },
  {
   "metadata": {
    "ExecuteTime": {
     "end_time": "2024-06-10T09:24:56.182218Z",
     "start_time": "2024-06-10T09:24:45.189164Z"
    }
   },
   "cell_type": "code",
   "source": [
    "file_path = 'resources\\Desktoppanel.csv'\n",
    "df = pd.read_csv(file_path)"
   ],
   "id": "3eecfd7da5844b9c",
   "outputs": [],
   "execution_count": 155
  },
  {
   "metadata": {
    "ExecuteTime": {
     "end_time": "2024-06-10T09:24:56.668241Z",
     "start_time": "2024-06-10T09:24:56.197837Z"
    }
   },
   "cell_type": "code",
   "source": [
    "df = df[df['year'] > 2014]\n",
    "\n",
    "keys = df.keys()\n",
    "\n",
    "na_10percentile = []\n",
    "na_25percentile = []\n",
    "na_30percentile = []\n",
    "na_over_30percentile = []"
   ],
   "id": "bdc1aa0ac67c3200",
   "outputs": [],
   "execution_count": 156
  },
  {
   "metadata": {
    "ExecuteTime": {
     "end_time": "2024-06-10T09:25:22.263598Z",
     "start_time": "2024-06-10T09:24:56.668241Z"
    }
   },
   "cell_type": "code",
   "source": [
    "for key in keys:\n",
    "    size = df[key].size\n",
    "    naCount = 0\n",
    "    for element in df[key]: \n",
    "        if pd.isna(element):\n",
    "            naCount += 1\n",
    "    naPercentile = naCount / size * 100\n",
    "    \n",
    "    if naPercentile < 10:\n",
    "        na_10percentile.append(key)\n",
    "    elif naPercentile < 25:\n",
    "        na_25percentile.append(key)\n",
    "    elif naPercentile < 30:\n",
    "        na_30percentile.append(key)\n",
    "    else:\n",
    "        na_over_30percentile.append(key)"
   ],
   "id": "cb4bf2604750593",
   "outputs": [],
   "execution_count": 157
  },
  {
   "metadata": {
    "ExecuteTime": {
     "end_time": "2024-06-10T09:25:22.294867Z",
     "start_time": "2024-06-10T09:25:22.263598Z"
    }
   },
   "cell_type": "code",
   "source": "# df['dq1008'].value_counts()",
   "id": "6a9cecb5fa393c0a",
   "outputs": [
    {
     "data": {
      "text/plain": [
       "dq1008\n",
       "9999998.0    1841\n",
       "2015.0       1398\n",
       "2016.0        417\n",
       "2017.0        380\n",
       "2014.0        324\n",
       "2018.0        312\n",
       "2020.0        230\n",
       "2019.0        217\n",
       "2021.0        175\n",
       "2013.0        122\n",
       "2012.0         77\n",
       "2011.0         38\n",
       "2010.0         37\n",
       "2006.0         22\n",
       "2009.0         18\n",
       "2000.0         16\n",
       "2003.0          9\n",
       "2001.0          8\n",
       "2004.0          8\n",
       "2008.0          7\n",
       "2005.0          7\n",
       "2007.0          5\n",
       "Name: count, dtype: int64"
      ]
     },
     "execution_count": 158,
     "metadata": {},
     "output_type": "execute_result"
    }
   ],
   "execution_count": 158
  },
  {
   "metadata": {
    "ExecuteTime": {
     "end_time": "2024-06-10T09:25:22.310473Z",
     "start_time": "2024-06-10T09:25:22.294867Z"
    }
   },
   "cell_type": "code",
   "source": [
    "def check_percentile(key: str):\n",
    "    if key in na_10percentile:\n",
    "        print(f'{key} is in 10 percentile | {df[key].isna().sum()} / {df[key].size} ({df[key].isna().sum() / df[key].size * 100:.2f}%)')\n",
    "    elif key in na_25percentile:\n",
    "        print(f'{key} is in 25 percentile | {df[key].isna().sum()} / {df[key].size} ({df[key].isna().sum() / df[key].size * 100:.2f}%)')\n",
    "    elif key in na_30percentile:\n",
    "        print(f'{key} is in 30 percentile | {df[key].isna().sum()} / {df[key].size} ({df[key].isna().sum() / df[key].size * 100:.2f}%)')\n",
    "    else:\n",
    "        print(f'{key} is in over 30 percentile | {df[key].isna().sum()} / {df[key].size} ({df[key].isna().sum() / df[key].size * 100:.2f}%)')\n"
   ],
   "id": "c2f2460dd9737e05",
   "outputs": [],
   "execution_count": 159
  },
  {
   "metadata": {},
   "cell_type": "markdown",
   "source": "## Data Preprocessing",
   "id": "e10dbb8cfe7db7ba"
  },
  {
   "metadata": {
    "jupyter": {
     "is_executing": true
    }
   },
   "cell_type": "code",
   "source": [
    "na_replacement = -9999\n",
    "\n",
    "회사법인_구분 = 'aq2002'\n",
    "상장여부 = 'aq2003'\n",
    "전문경영인_유무 = 'aq2004'\n",
    "경영형태 = 'aq2901'\n",
    "\n",
    "\n",
    "주식회사 = 1\n",
    "유한회사 = 2\n",
    "합자회사 = 3\n",
    "합명회사 = 4\n",
    "\n",
    "\n",
    "예 = 1\n",
    "아니오 = 2\n",
    "\n",
    "\n",
    "소유경영체제 = 1\n",
    "소유주_중심의_경영체제 = 2\n",
    "주요_경영문제_결정권을_소유주가_가진_경영체제 = 3\n",
    "전문경영체제 = 4\n",
    "해당없음 = 97\n",
    "\n",
    "\n",
    "미상장 = 4\n",
    "\n",
    "\n",
    "기업체_변화 = ['aq2012r4', 'aq2012r5', 'aq2012r6', 'aq2012r7', 'aq2012r8', 'aq2012r11', 'aq2012r13', 'aq2012r14']\n",
    "\n",
    "\n",
    "경영_형태 = 'aq2901'\n",
    "사업체_업력 = 'w_age'\n",
    "주력_제품의_국내_시장_경쟁_정도 = 'aq3008'\n",
    "사업장_혁신_유형 = 'aq3901'\n",
    "능력_근무성적_태도_등에_대해_평가_실시함 = 'cq1001'\n",
    "성과배분제도_운영_여부 = 'cq3001'\n",
    "우리사주제도_실시_여부 = 'cq3008'\n",
    "지난_2년_동안_직무분석_실시한_적_있음 = 'dq1007b'\n",
    "사무직_근로자의_초과근로가_정기적으로_이루어지는_정도 = 'dq3023'\n",
    "선택적_근무시간제를_운영함 = 'dq3025'\n",
    "탄력적_근로시간제를_운영함 = 'dq3027'\n",
    "작년말_기준_노동조합이_있음 = 'mq1001'\n",
    "작년_말_기준_노사협의회가_있음 = 'nq1004'\n",
    "\n",
    "\n",
    "당기_매출액 = 'fpq2001'\n",
    "전체_근로자_수 = 'epq3008'\n",
    "# 주_근로시간_1인당_2013까지 = 'dq3919' \n",
    "# 주_초과_근로시간_1인당_2013까지 = 'dq3920' \n",
    "주_근로시간_1인당_2015이후 = 'per_week' \n",
    "주_근로시간_1인당 = 주_근로시간_1인당_2015이후\n",
    "\n",
    "\n",
    "def determine_management_system(row):\n",
    "    if row[전문경영인_유무] == 예:\n",
    "        return 전문경영체제\n",
    "    elif row[상장여부] < 미상장:\n",
    "        return 소유주_중심의_경영체제\n",
    "    elif row[회사법인_구분] == 합자회사:\n",
    "        return 주요_경영문제_결정권을_소유주가_가진_경영체제\n",
    "    else:\n",
    "        return 소유경영체제\n",
    "    \n",
    "\n",
    "# X\n",
    "Independent_var_keys = [\n",
    "    경영_형태, 사업체_업력, *기업체_변화, 주력_제품의_국내_시장_경쟁_정도, 사업장_혁신_유형, 능력_근무성적_태도_등에_대해_평가_실시함,\n",
    "    성과배분제도_운영_여부, 우리사주제도_실시_여부, 지난_2년_동안_직무분석_실시한_적_있음, 사무직_근로자의_초과근로가_정기적으로_이루어지는_정도,\n",
    "    선택적_근무시간제를_운영함, 탄력적_근로시간제를_운영함, 작년말_기준_노동조합이_있음, 작년_말_기준_노사협의회가_있음\n",
    "]\n",
    "\n",
    "# y\n",
    "개인당_노동생산성_변화량 = 'y' \n",
    "    \n",
    "    \n",
    "df[주_근로시간_1인당].fillna(na_replacement)\n",
    "df[당기_매출액].fillna(na_replacement)\n",
    "df[개인당_노동생산성_변화량] = df[당기_매출액] / (df[전체_근로자_수] * df[주_근로시간_1인당])\n",
    "df[개인당_노동생산성_변화량] = log(df[개인당_노동생산성_변화량].apply(lambda x: x if x > 0 else (999999 if x == 0 else -1 / x)))\n",
    "\n",
    "fixed_management_data = df[[전문경영인_유무, 상장여부, 회사법인_구분]].apply(determine_management_system, axis=1).fillna(해당없음)\n",
    "df[경영_형태] = df[경영형태].combine_first(fixed_management_data)\n",
    "\n",
    "pre_X = df[[*Independent_var_keys]]\n",
    "df[[*Independent_var_keys]] = pre_X.fillna(na_replacement)"
   ],
   "id": "40febcdc5d13aaef",
   "outputs": [],
   "execution_count": null
  },
  {
   "metadata": {
    "ExecuteTime": {
     "end_time": "2024-06-10T09:25:22.518480Z",
     "start_time": "2024-06-10T09:25:22.487289Z"
    }
   },
   "cell_type": "code",
   "source": [
    "for key_name in 기업체_변화:\n",
    "    check_percentile(key_name)\n",
    "    \n",
    "check_percentile(경영_형태)\n",
    "check_percentile(사업체_업력)\n",
    "check_percentile(주력_제품의_국내_시장_경쟁_정도)\n",
    "check_percentile(사업장_혁신_유형)\n",
    "check_percentile(능력_근무성적_태도_등에_대해_평가_실시함)\n",
    "check_percentile(성과배분제도_운영_여부)\n",
    "check_percentile(우리사주제도_실시_여부)\n",
    "check_percentile(지난_2년_동안_직무분석_실시한_적_있음)\n",
    "check_percentile(사무직_근로자의_초과근로가_정기적으로_이루어지는_정도)\n",
    "check_percentile(선택적_근무시간제를_운영함)\n",
    "check_percentile(탄력적_근로시간제를_운영함)\n",
    "check_percentile(작년말_기준_노동조합이_있음)\n",
    "check_percentile(작년_말_기준_노사협의회가_있음)\n",
    "check_percentile(당기_매출액)\n",
    "check_percentile(전체_근로자_수)\n",
    "check_percentile(주_근로시간_1인당)\n",
    "check_percentile(개인당_노동생산성_변화량)"
   ],
   "id": "44690ba6510d46ea",
   "outputs": [
    {
     "name": "stdout",
     "output_type": "stream",
     "text": [
      "aq2012r4 is in 10 percentile | 0 / 11670 (0.00%)\n",
      "aq2012r5 is in 10 percentile | 0 / 11670 (0.00%)\n",
      "aq2012r6 is in 10 percentile | 0 / 11670 (0.00%)\n",
      "aq2012r7 is in 10 percentile | 0 / 11670 (0.00%)\n",
      "aq2012r8 is in 10 percentile | 0 / 11670 (0.00%)\n",
      "aq2012r11 is in 10 percentile | 0 / 11670 (0.00%)\n",
      "aq2012r13 is in 10 percentile | 0 / 11670 (0.00%)\n",
      "aq2012r14 is in 10 percentile | 0 / 11670 (0.00%)\n",
      "aq2901 is in over 30 percentile | 0 / 11670 (0.00%)\n",
      "w_age is in 10 percentile | 0 / 11670 (0.00%)\n",
      "aq3008 is in 10 percentile | 0 / 11670 (0.00%)\n",
      "aq3901 is in over 30 percentile | 0 / 11670 (0.00%)\n",
      "cq1001 is in 10 percentile | 0 / 11670 (0.00%)\n",
      "cq3001 is in 10 percentile | 0 / 11670 (0.00%)\n",
      "cq3008 is in 10 percentile | 0 / 11670 (0.00%)\n",
      "dq1007b is in 10 percentile | 0 / 11670 (0.00%)\n",
      "dq3023 is in 25 percentile | 0 / 11670 (0.00%)\n",
      "dq3025 is in 10 percentile | 0 / 11670 (0.00%)\n",
      "dq3027 is in 10 percentile | 0 / 11670 (0.00%)\n",
      "mq1001 is in 10 percentile | 0 / 11670 (0.00%)\n",
      "nq1004 is in 30 percentile | 0 / 11670 (0.00%)\n",
      "fpq2001 is in 30 percentile | 3084 / 11670 (26.43%)\n",
      "epq3008 is in 10 percentile | 0 / 11670 (0.00%)\n",
      "per_week is in 10 percentile | 527 / 11670 (4.52%)\n",
      "y is in over 30 percentile | 3398 / 11670 (29.12%)\n"
     ]
    }
   ],
   "execution_count": 161
  },
  {
   "metadata": {},
   "cell_type": "markdown",
   "source": [
    "## Estimation Structure\n",
    "\n",
    "$$\n",
    "\\ln{Y_{iprt}} = \\beta (Treat_i \\times Post_t) + X_{iprt}\\gamma + Fixed + \\varepsilon_{iprt}\n",
    "$$\n",
    "\n",
    "### Controlled Vars\n",
    "\n",
    "|             통제변수              |              코드              |                             비고                             |\n",
    "|:-----------------------------:|:----------------------------:|:----------------------------------------------------------:|\n",
    "|            재택근무 비율            |  'epq2007', 'epq9904' or ''  |         (전체 - 재택 수) / 전체 [~2013] or 시행 여부 [2015~]          |\n",
    "|          최저임금 근로자 비율          |                              |                                                            |\n",
    "|            기업 순이익             |                              |                                                            |\n",
    "|         추가 근로제도 시행 여부         |                              |                                                            |\n",
    "|             경영 형태             |           'aq2901'           | 회사법인_구분 = 'aq2002', 상장여부, 'aq2003', 전문경영인_유무 'aq2004'로 전처리 |\n",
    "|            사업체 업력             |           'w_age'            |                                                            |\n",
    "|            기업체 변화             | 'aq2012r4~r8, r11, r13, r14' |                                                            |\n",
    "|      주력 제품의 국내 시장 경쟁 정도       |           'aq3008'           |                                                            |\n",
    "|           사업장 혁신 유형           |           'aq3901'           |                                                            |\n",
    "|   능력, 근무성적, 태도 등에 대해 평가 실시함   |           'cq1001'           |                                                            |\n",
    "|         성과배분제도 운영 여부          |           'cq3001'           |                                                            |\n",
    "|         우리사주제도 실시 여부          |           'cq3008'           |                                                            |\n",
    "|    지난 2년 동안 직무분석 실시한 적 있음     |          'dq1007b'           |                                                            |\n",
    "| 사무직 근로자의 초과근로가 정기적으로 이루어지는 정도 |           'dq3023'           |                      na at 2005, 2007                      |\n",
    "|        선택적 근무시간제를 운영함         |           'dq3025'           |                                                            |\n",
    "|        탄력적 근로시간제를 운영함         |           'dq3027'           |                                                            |\n",
    "|        작년말 기준 노동조합이 있음        |           'mq1001'           |                                                            |\n",
    "|       작년 말 기준 노사협의회가 있음       |           'nq1004'           |                    mq1001 + nq1004 가능할듯                    | \n",
    "\n",
    "### Fixed vars\n",
    " \n",
    "|    고정효과    |\n",
    "|:----------:|\n",
    "|     지역     |\n",
    "|     연도     |\n",
    "|    산업분류    |\n",
    "|     규모     |\n",
    "| 산업규모 * 연도  |\n",
    "|   연도별 기업   |\n",
    "|   연도별 지역   |"
   ],
   "id": "176aa318747a9c9f"
  },
  {
   "metadata": {},
   "cell_type": "markdown",
   "source": "## Regression",
   "id": "12339c32c1ec3e9f"
  },
  {
   "metadata": {
    "ExecuteTime": {
     "end_time": "2024-06-10T09:25:23.223049Z",
     "start_time": "2024-06-10T09:25:22.518480Z"
    }
   },
   "cell_type": "code",
   "source": [
    "df = df.set_index(['id', 'year'])\n",
    "\n",
    "y = df[개인당_노동생산성_변화량]\n",
    "X = df[[*Independent_var_keys]]\n",
    "\n",
    "X = sm.add_constant(X)\n",
    "\n",
    "model = PanelOLS(y, X, entity_effects=True, time_effects=True)\n",
    "\n",
    "result = model.fit(cov_type='clustered', cluster_entity=True, cluster_time=True)\n",
    "\n",
    "result"
   ],
   "id": "4cfa00a6120bacac",
   "outputs": [
    {
     "name": "stderr",
     "output_type": "stream",
     "text": [
      "C:\\Users\\3doll\\miniconda3\\envs\\untitled\\lib\\site-packages\\linearmodels\\panel\\model.py:1216: MissingValueWarning: \n",
      "Inputs contain missing values. Dropping rows with missing observations.\n",
      "  super().__init__(dependent, exog, weights=weights, check_rank=check_rank)\n",
      "C:\\Users\\3doll\\miniconda3\\envs\\untitled\\lib\\site-packages\\linearmodels\\panel\\results.py:87: RuntimeWarning: invalid value encountered in sqrt\n",
      "  return Series(np.sqrt(np.diag(self.cov)), self._var_names, name=\"std_error\")\n"
     ]
    },
    {
     "data": {
      "text/plain": [
       "                          PanelOLS Estimation Summary                           \n",
       "================================================================================\n",
       "Dep. Variable:                      y   R-squared:                        0.0055\n",
       "Estimator:                   PanelOLS   R-squared (Between):              0.0122\n",
       "No. Observations:                8272   R-squared (Within):               0.0228\n",
       "Date:                Mon, Jun 10 2024   R-squared (Overall):              0.0147\n",
       "Time:                        18:25:23   Log-likelihood                   -3768.7\n",
       "Cov. Estimator:             Clustered                                           \n",
       "                                        F-statistic:                      1.4480\n",
       "Entities:                        3027   P-value                           0.0892\n",
       "Avg Obs:                       2.7327   Distribution:                 F(20,5222)\n",
       "Min Obs:                       1.0000                                           \n",
       "Max Obs:                       4.0000   F-statistic (robust):             1.0804\n",
       "                                        P-value                           0.3626\n",
       "Time periods:                       4   Distribution:                 F(20,5222)\n",
       "Avg Obs:                       2068.0                                           \n",
       "Min Obs:                       1902.0                                           \n",
       "Max Obs:                       2265.0                                           \n",
       "                                                                                \n",
       "                             Parameter Estimates                              \n",
       "==============================================================================\n",
       "            Parameter  Std. Err.     T-stat    P-value    Lower CI    Upper CI\n",
       "------------------------------------------------------------------------------\n",
       "aq2901         0.0102     0.0097     1.0437     0.2967     -0.0089      0.0292\n",
       "w_age          0.0198     0.0050     3.9339     0.0001      0.0099      0.0297\n",
       "aq2012r4       0.1370     0.1023     1.3390     0.1806     -0.0636      0.3376\n",
       "aq2012r5       0.0827     0.1626     0.5088     0.6109     -0.2360      0.4014\n",
       "aq2012r6       0.0358     0.0683     0.5239     0.6004     -0.0982      0.1698\n",
       "aq2012r7       0.2022     0.1260     1.6052     0.1085     -0.0448      0.4492\n",
       "aq2012r8       0.0982     0.1704     0.5762     0.5645     -0.2358      0.4321\n",
       "aq2012r11     -0.0737     0.1655    -0.4454     0.6561     -0.3982      0.2508\n",
       "aq2012r13      0.0640     0.0420     1.5262     0.1270     -0.0182      0.1463\n",
       "aq2012r14      0.0547     0.0459     1.1911     0.2337     -0.0353      0.1448\n",
       "aq3008         0.0002     0.0003     0.5547     0.5791     -0.0004      0.0008\n",
       "aq3901        -0.0002                                                         \n",
       "cq1001        -0.0078     0.0190    -0.4080     0.6833     -0.0450      0.0295\n",
       "cq3001        -0.0327     0.0338    -0.9664     0.3339     -0.0991      0.0336\n",
       "cq3008         0.1197     0.0898     1.3328     0.1826     -0.0564      0.2958\n",
       "dq1007b       -0.0373     0.0244    -1.5311     0.1258     -0.0851      0.0105\n",
       "dq3023      4.222e-08  3.802e-06     0.0111     0.9911  -7.412e-06   7.496e-06\n",
       "dq3025        -0.0200     0.0333    -0.6012     0.5477     -0.0852      0.0452\n",
       "dq3027        -0.0464     0.0238    -1.9473     0.0515     -0.0932      0.0003\n",
       "mq1001         0.0051     0.0939     0.0540     0.9569     -0.1790      0.1891\n",
       "nq1004      3.263e-07  1.322e-05     0.0247     0.9803  -2.559e-05   2.624e-05\n",
       "==============================================================================\n",
       "\n",
       "F-test for Poolability: 25.157\n",
       "P-value: 0.0000\n",
       "Distribution: F(3029,5222)\n",
       "\n",
       "Included effects: Entity, Time\n",
       "PanelEffectsResults, id: 0x1e798c8ef70"
      ],
      "text/html": [
       "<table class=\"simpletable\">\n",
       "<caption>PanelOLS Estimation Summary</caption>\n",
       "<tr>\n",
       "  <th>Dep. Variable:</th>            <td>y</td>        <th>  R-squared:         </th>     <td>0.0055</td>  \n",
       "</tr>\n",
       "<tr>\n",
       "  <th>Estimator:</th>            <td>PanelOLS</td>     <th>  R-squared (Between):</th>    <td>0.0122</td>  \n",
       "</tr>\n",
       "<tr>\n",
       "  <th>No. Observations:</th>       <td>8272</td>       <th>  R-squared (Within):</th>     <td>0.0228</td>  \n",
       "</tr>\n",
       "<tr>\n",
       "  <th>Date:</th>             <td>Mon, Jun 10 2024</td> <th>  R-squared (Overall):</th>    <td>0.0147</td>  \n",
       "</tr>\n",
       "<tr>\n",
       "  <th>Time:</th>                 <td>18:25:23</td>     <th>  Log-likelihood     </th>     <td>-3768.7</td> \n",
       "</tr>\n",
       "<tr>\n",
       "  <th>Cov. Estimator:</th>       <td>Clustered</td>    <th>                     </th>        <td></td>     \n",
       "</tr>\n",
       "<tr>\n",
       "  <th></th>                          <td></td>         <th>  F-statistic:       </th>     <td>1.4480</td>  \n",
       "</tr>\n",
       "<tr>\n",
       "  <th>Entities:</th>               <td>3027</td>       <th>  P-value            </th>     <td>0.0892</td>  \n",
       "</tr>\n",
       "<tr>\n",
       "  <th>Avg Obs:</th>               <td>2.7327</td>      <th>  Distribution:      </th>   <td>F(20,5222)</td>\n",
       "</tr>\n",
       "<tr>\n",
       "  <th>Min Obs:</th>               <td>1.0000</td>      <th>                     </th>        <td></td>     \n",
       "</tr>\n",
       "<tr>\n",
       "  <th>Max Obs:</th>               <td>4.0000</td>      <th>  F-statistic (robust):</th>   <td>1.0804</td>  \n",
       "</tr>\n",
       "<tr>\n",
       "  <th></th>                          <td></td>         <th>  P-value            </th>     <td>0.3626</td>  \n",
       "</tr>\n",
       "<tr>\n",
       "  <th>Time periods:</th>             <td>4</td>        <th>  Distribution:      </th>   <td>F(20,5222)</td>\n",
       "</tr>\n",
       "<tr>\n",
       "  <th>Avg Obs:</th>               <td>2068.0</td>      <th>                     </th>        <td></td>     \n",
       "</tr>\n",
       "<tr>\n",
       "  <th>Min Obs:</th>               <td>1902.0</td>      <th>                     </th>        <td></td>     \n",
       "</tr>\n",
       "<tr>\n",
       "  <th>Max Obs:</th>               <td>2265.0</td>      <th>                     </th>        <td></td>     \n",
       "</tr>\n",
       "<tr>\n",
       "  <th></th>                          <td></td>         <th>                     </th>        <td></td>     \n",
       "</tr>\n",
       "</table>\n",
       "<table class=\"simpletable\">\n",
       "<caption>Parameter Estimates</caption>\n",
       "<tr>\n",
       "      <td></td>      <th>Parameter</th> <th>Std. Err.</th>  <th>T-stat</th>   <th>P-value</th>  <th>Lower CI</th>  <th>Upper CI</th> \n",
       "</tr>\n",
       "<tr>\n",
       "  <th>aq2901</th>     <td>0.0102</td>    <td>0.0097</td>    <td>1.0437</td>   <td>0.2967</td>    <td>-0.0089</td>   <td>0.0292</td>  \n",
       "</tr>\n",
       "<tr>\n",
       "  <th>w_age</th>      <td>0.0198</td>    <td>0.0050</td>    <td>3.9339</td>   <td>0.0001</td>    <td>0.0099</td>    <td>0.0297</td>  \n",
       "</tr>\n",
       "<tr>\n",
       "  <th>aq2012r4</th>   <td>0.1370</td>    <td>0.1023</td>    <td>1.3390</td>   <td>0.1806</td>    <td>-0.0636</td>   <td>0.3376</td>  \n",
       "</tr>\n",
       "<tr>\n",
       "  <th>aq2012r5</th>   <td>0.0827</td>    <td>0.1626</td>    <td>0.5088</td>   <td>0.6109</td>    <td>-0.2360</td>   <td>0.4014</td>  \n",
       "</tr>\n",
       "<tr>\n",
       "  <th>aq2012r6</th>   <td>0.0358</td>    <td>0.0683</td>    <td>0.5239</td>   <td>0.6004</td>    <td>-0.0982</td>   <td>0.1698</td>  \n",
       "</tr>\n",
       "<tr>\n",
       "  <th>aq2012r7</th>   <td>0.2022</td>    <td>0.1260</td>    <td>1.6052</td>   <td>0.1085</td>    <td>-0.0448</td>   <td>0.4492</td>  \n",
       "</tr>\n",
       "<tr>\n",
       "  <th>aq2012r8</th>   <td>0.0982</td>    <td>0.1704</td>    <td>0.5762</td>   <td>0.5645</td>    <td>-0.2358</td>   <td>0.4321</td>  \n",
       "</tr>\n",
       "<tr>\n",
       "  <th>aq2012r11</th>  <td>-0.0737</td>   <td>0.1655</td>    <td>-0.4454</td>  <td>0.6561</td>    <td>-0.3982</td>   <td>0.2508</td>  \n",
       "</tr>\n",
       "<tr>\n",
       "  <th>aq2012r13</th>  <td>0.0640</td>    <td>0.0420</td>    <td>1.5262</td>   <td>0.1270</td>    <td>-0.0182</td>   <td>0.1463</td>  \n",
       "</tr>\n",
       "<tr>\n",
       "  <th>aq2012r14</th>  <td>0.0547</td>    <td>0.0459</td>    <td>1.1911</td>   <td>0.2337</td>    <td>-0.0353</td>   <td>0.1448</td>  \n",
       "</tr>\n",
       "<tr>\n",
       "  <th>aq3008</th>     <td>0.0002</td>    <td>0.0003</td>    <td>0.5547</td>   <td>0.5791</td>    <td>-0.0004</td>   <td>0.0008</td>  \n",
       "</tr>\n",
       "<tr>\n",
       "  <th>aq3901</th>     <td>-0.0002</td>  <td>        </td>  <td>        </td> <td>        </td>  <td>        </td>  <td>        </td> \n",
       "</tr>\n",
       "<tr>\n",
       "  <th>cq1001</th>     <td>-0.0078</td>   <td>0.0190</td>    <td>-0.4080</td>  <td>0.6833</td>    <td>-0.0450</td>   <td>0.0295</td>  \n",
       "</tr>\n",
       "<tr>\n",
       "  <th>cq3001</th>     <td>-0.0327</td>   <td>0.0338</td>    <td>-0.9664</td>  <td>0.3339</td>    <td>-0.0991</td>   <td>0.0336</td>  \n",
       "</tr>\n",
       "<tr>\n",
       "  <th>cq3008</th>     <td>0.1197</td>    <td>0.0898</td>    <td>1.3328</td>   <td>0.1826</td>    <td>-0.0564</td>   <td>0.2958</td>  \n",
       "</tr>\n",
       "<tr>\n",
       "  <th>dq1007b</th>    <td>-0.0373</td>   <td>0.0244</td>    <td>-1.5311</td>  <td>0.1258</td>    <td>-0.0851</td>   <td>0.0105</td>  \n",
       "</tr>\n",
       "<tr>\n",
       "  <th>dq3023</th>    <td>4.222e-08</td> <td>3.802e-06</td>  <td>0.0111</td>   <td>0.9911</td>  <td>-7.412e-06</td> <td>7.496e-06</td>\n",
       "</tr>\n",
       "<tr>\n",
       "  <th>dq3025</th>     <td>-0.0200</td>   <td>0.0333</td>    <td>-0.6012</td>  <td>0.5477</td>    <td>-0.0852</td>   <td>0.0452</td>  \n",
       "</tr>\n",
       "<tr>\n",
       "  <th>dq3027</th>     <td>-0.0464</td>   <td>0.0238</td>    <td>-1.9473</td>  <td>0.0515</td>    <td>-0.0932</td>   <td>0.0003</td>  \n",
       "</tr>\n",
       "<tr>\n",
       "  <th>mq1001</th>     <td>0.0051</td>    <td>0.0939</td>    <td>0.0540</td>   <td>0.9569</td>    <td>-0.1790</td>   <td>0.1891</td>  \n",
       "</tr>\n",
       "<tr>\n",
       "  <th>nq1004</th>    <td>3.263e-07</td> <td>1.322e-05</td>  <td>0.0247</td>   <td>0.9803</td>  <td>-2.559e-05</td> <td>2.624e-05</td>\n",
       "</tr>\n",
       "</table><br/><br/>F-test for Poolability: 25.157<br/>P-value: 0.0000<br/>Distribution: F(3029,5222)<br/><br/>Included effects: Entity, Time<br/>id: 0x1e798c8ef70"
      ]
     },
     "execution_count": 162,
     "metadata": {},
     "output_type": "execute_result"
    }
   ],
   "execution_count": 162
  },
  {
   "metadata": {
    "jupyter": {
     "is_executing": true
    },
    "ExecuteTime": {
     "start_time": "2024-06-10T09:36:30.096314Z"
    }
   },
   "cell_type": "code",
   "source": [
    "운수업 = 'H'\n",
    "\n",
    "df['Treat'] = np.where((df['year'] >= 2019) & (df['ind'] == 운수업), 1, 0)\n",
    "\n",
    "Y = df[개인당_노동생산성_변화량].values\n",
    "D = df['Treat'].values\n",
    "X = df[[*Independent_var_keys]].values\n",
    "\n",
    "causal = CausalModel(Y, D, X)\n",
    "causal.est_propensity_s()\n",
    "causal.est_via_matching(bias_adj=True)\n",
    "\n",
    "causal.estimates"
   ],
   "id": "5f3acbfc7e36c8b",
   "outputs": [
    {
     "name": "stderr",
     "output_type": "stream",
     "text": [
      "C:\\Users\\3doll\\miniconda3\\envs\\untitled\\lib\\site-packages\\causalinference\\core\\summary.py:110: RuntimeWarning: invalid value encountered in divide\n",
      "  return (mean_t-mean_c) / np.sqrt((sd_c**2+sd_t**2)/2)\n"
     ]
    }
   ],
   "execution_count": null
  },
  {
   "metadata": {},
   "cell_type": "markdown",
   "source": "## Visualization",
   "id": "783dd13111c1e603"
  },
  {
   "metadata": {
    "ExecuteTime": {
     "end_time": "2024-06-10T09:25:23.238676Z",
     "start_time": "2024-06-10T09:25:23.238676Z"
    }
   },
   "cell_type": "code",
   "source": [
    "coefficients = result.params.drop('const') * 100\n",
    "\n",
    "plt.figure(figsize=(10, 5))\n",
    "coefficients.plot(kind='bar')\n",
    "plt.title('Regression Coefficients')\n",
    "plt.grid(True)\n",
    "plt.show()"
   ],
   "id": "c75e1ac119bf625c",
   "outputs": [],
   "execution_count": null
  }
 ],
 "metadata": {
  "kernelspec": {
   "display_name": "Python 3",
   "language": "python",
   "name": "python3"
  },
  "language_info": {
   "codemirror_mode": {
    "name": "ipython",
    "version": 2
   },
   "file_extension": ".py",
   "mimetype": "text/x-python",
   "name": "python",
   "nbconvert_exporter": "python",
   "pygments_lexer": "ipython2",
   "version": "2.7.6"
  }
 },
 "nbformat": 4,
 "nbformat_minor": 5
}
