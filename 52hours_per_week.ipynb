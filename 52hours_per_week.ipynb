{
 "cells": [
  {
   "metadata": {},
   "cell_type": "markdown",
   "source": "### Imports",
   "id": "ea3cbfa1b59a6caf"
  },
  {
   "cell_type": "code",
   "execution_count": null,
   "id": "initial_id",
   "metadata": {
    "collapsed": true
   },
   "outputs": [],
   "source": [
    "import pandas as pd\n",
    "import statsmodels.api as sm\n",
    "import matplotlib.pyplot as plt\n",
    "import seaborn as sns"
   ]
  },
  {
   "metadata": {},
   "cell_type": "markdown",
   "source": "### Data Settings",
   "id": "e0d8e94ec4afa2f0"
  },
  {
   "metadata": {},
   "cell_type": "code",
   "outputs": [],
   "execution_count": null,
   "source": [
    "file_path = 'Desktoppanel.csv'\n",
    "data = pd.read_csv(file_path)\n",
    "\n",
    "data['before_2013'] = data['epq8001'] - data['epq8902'] - data['epq8905']\n",
    "temporary_workers = data['epq8002'].fillna(0) + data['epq8003'].fillna(0) + data['epq8004'].combine_first(data['before_2013'])\n",
    "\n",
    "y = temporary_workers\n",
    "X = data[['aq1001', 'aq1002', 'aq2001', 'aq2003', 'aq3003', 'mq1001']]\n",
    "# 다수사업장 여부, 본사 여부, 조직유형, 상장 여부, 설립년도, 노조여부 \n",
    "\n",
    "model = sm.OLS(data).fit()\n",
    "\n",
    "print(model.summary())"
   ],
   "id": "40febcdc5d13aaef"
  },
  {
   "metadata": {},
   "cell_type": "markdown",
   "source": "### Visualization",
   "id": "783dd13111c1e603"
  },
  {
   "metadata": {},
   "cell_type": "code",
   "outputs": [],
   "execution_count": null,
   "source": [
    "plt.figure(figsize=(10, 6))\n",
    "sns.residplot(x=model.fittedvalues, y=model.resid, lowess=True, line_kws={\"color\": \"red\"})\n",
    "plt.xlabel('Fitted values')\n",
    "plt.ylabel('Residuals')\n",
    "plt.title('Residual Plot')\n",
    "plt.show()"
   ],
   "id": "c75e1ac119bf625c"
  }
 ],
 "metadata": {
  "kernelspec": {
   "display_name": "Python 3",
   "language": "python",
   "name": "python3"
  },
  "language_info": {
   "codemirror_mode": {
    "name": "ipython",
    "version": 2
   },
   "file_extension": ".py",
   "mimetype": "text/x-python",
   "name": "python",
   "nbconvert_exporter": "python",
   "pygments_lexer": "ipython2",
   "version": "2.7.6"
  }
 },
 "nbformat": 4,
 "nbformat_minor": 5
}
